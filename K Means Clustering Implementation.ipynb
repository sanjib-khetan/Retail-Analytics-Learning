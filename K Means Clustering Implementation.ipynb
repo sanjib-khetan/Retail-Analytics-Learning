{
 "cells": [
  {
   "cell_type": "markdown",
   "metadata": {},
   "source": [
    "# K Means Clustering"
   ]
  },
  {
   "cell_type": "markdown",
   "metadata": {},
   "source": [
    "## Import Libraries"
   ]
  },
  {
   "cell_type": "code",
   "execution_count": 1,
   "metadata": {},
   "outputs": [],
   "source": [
    "import numpy as np  \n",
    "import pandas as pd  \n",
    "import seaborn as sns\n",
    "import matplotlib.pyplot as plt "
   ]
  },
  {
   "cell_type": "markdown",
   "metadata": {},
   "source": [
    "# Import Data"
   ]
  },
  {
   "cell_type": "code",
   "execution_count": 2,
   "metadata": {},
   "outputs": [],
   "source": [
    "customer_data = pd.read_excel('C:/Users/aksin52/Documents/Machine Learning Express/Introduction to Machine Learning/Marketing Analytics Specialization/Part 5 - Clustering Algorithms/Data/card_customer_data.xlsx')"
   ]
  },
  {
   "cell_type": "markdown",
   "metadata": {},
   "source": [
    "# Checking the Data"
   ]
  },
  {
   "cell_type": "code",
   "execution_count": 3,
   "metadata": {},
   "outputs": [
    {
     "data": {
      "text/plain": [
       "(3078, 11)"
      ]
     },
     "execution_count": 3,
     "metadata": {},
     "output_type": "execute_result"
    }
   ],
   "source": [
    "customer_data.shape  "
   ]
  },
  {
   "cell_type": "code",
   "execution_count": 4,
   "metadata": {
    "scrolled": false
   },
   "outputs": [
    {
     "data": {
      "text/html": [
       "<div>\n",
       "<style scoped>\n",
       "    .dataframe tbody tr th:only-of-type {\n",
       "        vertical-align: middle;\n",
       "    }\n",
       "\n",
       "    .dataframe tbody tr th {\n",
       "        vertical-align: top;\n",
       "    }\n",
       "\n",
       "    .dataframe thead th {\n",
       "        text-align: right;\n",
       "    }\n",
       "</style>\n",
       "<table border=\"1\" class=\"dataframe\">\n",
       "  <thead>\n",
       "    <tr style=\"text-align: right;\">\n",
       "      <th></th>\n",
       "      <th>CLIENTNUM</th>\n",
       "      <th>Education_Level</th>\n",
       "      <th>Card_Category</th>\n",
       "      <th>Months_on_book</th>\n",
       "      <th>Total_Relationship_Count</th>\n",
       "      <th>Months_Inactive_12_mon</th>\n",
       "      <th>Credit_Limit</th>\n",
       "      <th>Total_Revolving_Bal</th>\n",
       "      <th>Avg_Utilization_Ratio</th>\n",
       "      <th>Total_Trans_Amt</th>\n",
       "      <th>Total_Trans_Ct</th>\n",
       "    </tr>\n",
       "  </thead>\n",
       "  <tbody>\n",
       "    <tr>\n",
       "      <th>0</th>\n",
       "      <td>769911858</td>\n",
       "      <td>High School</td>\n",
       "      <td>Blue</td>\n",
       "      <td>34</td>\n",
       "      <td>3</td>\n",
       "      <td>4</td>\n",
       "      <td>3313.0</td>\n",
       "      <td>2517</td>\n",
       "      <td>0.760</td>\n",
       "      <td>1171</td>\n",
       "      <td>20</td>\n",
       "    </tr>\n",
       "    <tr>\n",
       "      <th>1</th>\n",
       "      <td>713061558</td>\n",
       "      <td>Graduate</td>\n",
       "      <td>Blue</td>\n",
       "      <td>36</td>\n",
       "      <td>3</td>\n",
       "      <td>1</td>\n",
       "      <td>4010.0</td>\n",
       "      <td>1247</td>\n",
       "      <td>0.311</td>\n",
       "      <td>1088</td>\n",
       "      <td>24</td>\n",
       "    </tr>\n",
       "    <tr>\n",
       "      <th>2</th>\n",
       "      <td>818906208</td>\n",
       "      <td>High School</td>\n",
       "      <td>Silver</td>\n",
       "      <td>27</td>\n",
       "      <td>2</td>\n",
       "      <td>2</td>\n",
       "      <td>29081.0</td>\n",
       "      <td>1396</td>\n",
       "      <td>0.048</td>\n",
       "      <td>1538</td>\n",
       "      <td>36</td>\n",
       "    </tr>\n",
       "    <tr>\n",
       "      <th>3</th>\n",
       "      <td>710599683</td>\n",
       "      <td>College</td>\n",
       "      <td>Blue</td>\n",
       "      <td>36</td>\n",
       "      <td>3</td>\n",
       "      <td>6</td>\n",
       "      <td>11751.0</td>\n",
       "      <td>0</td>\n",
       "      <td>0.000</td>\n",
       "      <td>1539</td>\n",
       "      <td>17</td>\n",
       "    </tr>\n",
       "    <tr>\n",
       "      <th>4</th>\n",
       "      <td>712396908</td>\n",
       "      <td>Graduate</td>\n",
       "      <td>Blue</td>\n",
       "      <td>48</td>\n",
       "      <td>5</td>\n",
       "      <td>2</td>\n",
       "      <td>2436.0</td>\n",
       "      <td>680</td>\n",
       "      <td>0.279</td>\n",
       "      <td>1570</td>\n",
       "      <td>29</td>\n",
       "    </tr>\n",
       "  </tbody>\n",
       "</table>\n",
       "</div>"
      ],
      "text/plain": [
       "   CLIENTNUM Education_Level Card_Category  Months_on_book  \\\n",
       "0  769911858     High School          Blue              34   \n",
       "1  713061558        Graduate          Blue              36   \n",
       "2  818906208     High School        Silver              27   \n",
       "3  710599683         College          Blue              36   \n",
       "4  712396908        Graduate          Blue              48   \n",
       "\n",
       "   Total_Relationship_Count  Months_Inactive_12_mon  Credit_Limit  \\\n",
       "0                         3                       4        3313.0   \n",
       "1                         3                       1        4010.0   \n",
       "2                         2                       2       29081.0   \n",
       "3                         3                       6       11751.0   \n",
       "4                         5                       2        2436.0   \n",
       "\n",
       "   Total_Revolving_Bal  Avg_Utilization_Ratio  Total_Trans_Amt  Total_Trans_Ct  \n",
       "0                 2517                  0.760             1171              20  \n",
       "1                 1247                  0.311             1088              24  \n",
       "2                 1396                  0.048             1538              36  \n",
       "3                    0                  0.000             1539              17  \n",
       "4                  680                  0.279             1570              29  "
      ]
     },
     "execution_count": 4,
     "metadata": {},
     "output_type": "execute_result"
    }
   ],
   "source": [
    "customer_data.head()"
   ]
  },
  {
   "cell_type": "code",
   "execution_count": 5,
   "metadata": {},
   "outputs": [
    {
     "data": {
      "text/plain": [
       "CLIENTNUM                     int64\n",
       "Education_Level              object\n",
       "Card_Category                object\n",
       "Months_on_book                int64\n",
       "Total_Relationship_Count      int64\n",
       "Months_Inactive_12_mon        int64\n",
       "Credit_Limit                float64\n",
       "Total_Revolving_Bal           int64\n",
       "Avg_Utilization_Ratio       float64\n",
       "Total_Trans_Amt               int64\n",
       "Total_Trans_Ct                int64\n",
       "dtype: object"
      ]
     },
     "execution_count": 5,
     "metadata": {},
     "output_type": "execute_result"
    }
   ],
   "source": [
    "customer_data.dtypes"
   ]
  },
  {
   "cell_type": "markdown",
   "metadata": {},
   "source": [
    "# Dropping ID "
   ]
  },
  {
   "cell_type": "code",
   "execution_count": 6,
   "metadata": {
    "scrolled": false
   },
   "outputs": [
    {
     "data": {
      "text/html": [
       "<div>\n",
       "<style scoped>\n",
       "    .dataframe tbody tr th:only-of-type {\n",
       "        vertical-align: middle;\n",
       "    }\n",
       "\n",
       "    .dataframe tbody tr th {\n",
       "        vertical-align: top;\n",
       "    }\n",
       "\n",
       "    .dataframe thead th {\n",
       "        text-align: right;\n",
       "    }\n",
       "</style>\n",
       "<table border=\"1\" class=\"dataframe\">\n",
       "  <thead>\n",
       "    <tr style=\"text-align: right;\">\n",
       "      <th></th>\n",
       "      <th>Education_Level</th>\n",
       "      <th>Card_Category</th>\n",
       "      <th>Months_on_book</th>\n",
       "      <th>Total_Relationship_Count</th>\n",
       "      <th>Months_Inactive_12_mon</th>\n",
       "      <th>Credit_Limit</th>\n",
       "      <th>Total_Revolving_Bal</th>\n",
       "      <th>Avg_Utilization_Ratio</th>\n",
       "      <th>Total_Trans_Amt</th>\n",
       "      <th>Total_Trans_Ct</th>\n",
       "    </tr>\n",
       "  </thead>\n",
       "  <tbody>\n",
       "    <tr>\n",
       "      <th>0</th>\n",
       "      <td>High School</td>\n",
       "      <td>Blue</td>\n",
       "      <td>34</td>\n",
       "      <td>3</td>\n",
       "      <td>4</td>\n",
       "      <td>3313.0</td>\n",
       "      <td>2517</td>\n",
       "      <td>0.760</td>\n",
       "      <td>1171</td>\n",
       "      <td>20</td>\n",
       "    </tr>\n",
       "    <tr>\n",
       "      <th>1</th>\n",
       "      <td>Graduate</td>\n",
       "      <td>Blue</td>\n",
       "      <td>36</td>\n",
       "      <td>3</td>\n",
       "      <td>1</td>\n",
       "      <td>4010.0</td>\n",
       "      <td>1247</td>\n",
       "      <td>0.311</td>\n",
       "      <td>1088</td>\n",
       "      <td>24</td>\n",
       "    </tr>\n",
       "    <tr>\n",
       "      <th>2</th>\n",
       "      <td>High School</td>\n",
       "      <td>Silver</td>\n",
       "      <td>27</td>\n",
       "      <td>2</td>\n",
       "      <td>2</td>\n",
       "      <td>29081.0</td>\n",
       "      <td>1396</td>\n",
       "      <td>0.048</td>\n",
       "      <td>1538</td>\n",
       "      <td>36</td>\n",
       "    </tr>\n",
       "    <tr>\n",
       "      <th>3</th>\n",
       "      <td>College</td>\n",
       "      <td>Blue</td>\n",
       "      <td>36</td>\n",
       "      <td>3</td>\n",
       "      <td>6</td>\n",
       "      <td>11751.0</td>\n",
       "      <td>0</td>\n",
       "      <td>0.000</td>\n",
       "      <td>1539</td>\n",
       "      <td>17</td>\n",
       "    </tr>\n",
       "    <tr>\n",
       "      <th>4</th>\n",
       "      <td>Graduate</td>\n",
       "      <td>Blue</td>\n",
       "      <td>48</td>\n",
       "      <td>5</td>\n",
       "      <td>2</td>\n",
       "      <td>2436.0</td>\n",
       "      <td>680</td>\n",
       "      <td>0.279</td>\n",
       "      <td>1570</td>\n",
       "      <td>29</td>\n",
       "    </tr>\n",
       "  </tbody>\n",
       "</table>\n",
       "</div>"
      ],
      "text/plain": [
       "  Education_Level Card_Category  Months_on_book  Total_Relationship_Count  \\\n",
       "0     High School          Blue              34                         3   \n",
       "1        Graduate          Blue              36                         3   \n",
       "2     High School        Silver              27                         2   \n",
       "3         College          Blue              36                         3   \n",
       "4        Graduate          Blue              48                         5   \n",
       "\n",
       "   Months_Inactive_12_mon  Credit_Limit  Total_Revolving_Bal  \\\n",
       "0                       4        3313.0                 2517   \n",
       "1                       1        4010.0                 1247   \n",
       "2                       2       29081.0                 1396   \n",
       "3                       6       11751.0                    0   \n",
       "4                       2        2436.0                  680   \n",
       "\n",
       "   Avg_Utilization_Ratio  Total_Trans_Amt  Total_Trans_Ct  \n",
       "0                  0.760             1171              20  \n",
       "1                  0.311             1088              24  \n",
       "2                  0.048             1538              36  \n",
       "3                  0.000             1539              17  \n",
       "4                  0.279             1570              29  "
      ]
     },
     "execution_count": 6,
     "metadata": {},
     "output_type": "execute_result"
    }
   ],
   "source": [
    "data=customer_data.drop(['CLIENTNUM'],axis=1)\n",
    "data.head()"
   ]
  },
  {
   "cell_type": "markdown",
   "metadata": {},
   "source": [
    "# Split features into Numerical and Categorical"
   ]
  },
  {
   "cell_type": "code",
   "execution_count": 7,
   "metadata": {},
   "outputs": [],
   "source": [
    "num=data.select_dtypes(include='number')\n",
    "char=data.select_dtypes(include='object')"
   ]
  },
  {
   "cell_type": "code",
   "execution_count": 8,
   "metadata": {},
   "outputs": [
    {
     "data": {
      "text/plain": [
       "Months_on_book                int64\n",
       "Total_Relationship_Count      int64\n",
       "Months_Inactive_12_mon        int64\n",
       "Credit_Limit                float64\n",
       "Total_Revolving_Bal           int64\n",
       "Avg_Utilization_Ratio       float64\n",
       "Total_Trans_Amt               int64\n",
       "Total_Trans_Ct                int64\n",
       "dtype: object"
      ]
     },
     "execution_count": 8,
     "metadata": {},
     "output_type": "execute_result"
    }
   ],
   "source": [
    "num.dtypes"
   ]
  },
  {
   "cell_type": "code",
   "execution_count": 9,
   "metadata": {
    "scrolled": true
   },
   "outputs": [
    {
     "data": {
      "text/plain": [
       "Education_Level    object\n",
       "Card_Category      object\n",
       "dtype: object"
      ]
     },
     "execution_count": 9,
     "metadata": {},
     "output_type": "execute_result"
    }
   ],
   "source": [
    "char.dtypes"
   ]
  },
  {
   "cell_type": "markdown",
   "metadata": {},
   "source": [
    "# Capping and Flooring of outliers"
   ]
  },
  {
   "cell_type": "code",
   "execution_count": 10,
   "metadata": {},
   "outputs": [],
   "source": [
    "def outlier_cap(x):\n",
    "    x=x.clip(lower=x.quantile(0.01))\n",
    "    x=x.clip(upper=x.quantile(0.99))\n",
    "    return(x)"
   ]
  },
  {
   "cell_type": "code",
   "execution_count": 11,
   "metadata": {},
   "outputs": [],
   "source": [
    "num=num.apply(lambda x : outlier_cap(x))"
   ]
  },
  {
   "cell_type": "markdown",
   "metadata": {},
   "source": [
    "# Missing Value Analysis"
   ]
  },
  {
   "cell_type": "code",
   "execution_count": 12,
   "metadata": {
    "scrolled": true
   },
   "outputs": [
    {
     "data": {
      "text/plain": [
       "Months_on_book              0.0\n",
       "Total_Relationship_Count    0.0\n",
       "Months_Inactive_12_mon      0.0\n",
       "Credit_Limit                0.0\n",
       "Total_Revolving_Bal         0.0\n",
       "Avg_Utilization_Ratio       0.0\n",
       "Total_Trans_Amt             0.0\n",
       "Total_Trans_Ct              0.0\n",
       "dtype: float64"
      ]
     },
     "execution_count": 12,
     "metadata": {},
     "output_type": "execute_result"
    }
   ],
   "source": [
    "num.isnull().mean()"
   ]
  },
  {
   "cell_type": "code",
   "execution_count": 13,
   "metadata": {},
   "outputs": [],
   "source": [
    "# Since no Missing Values are present in the data, we need not proceed with Missing Value Imputation process"
   ]
  },
  {
   "cell_type": "markdown",
   "metadata": {},
   "source": [
    "# Building Derived Feature - Avg Spend per Transaction"
   ]
  },
  {
   "cell_type": "code",
   "execution_count": 14,
   "metadata": {},
   "outputs": [],
   "source": [
    "num['avg_spend']=num['Total_Trans_Amt']/num['Total_Trans_Ct']"
   ]
  },
  {
   "cell_type": "code",
   "execution_count": 15,
   "metadata": {},
   "outputs": [
    {
     "data": {
      "text/html": [
       "<div>\n",
       "<style scoped>\n",
       "    .dataframe tbody tr th:only-of-type {\n",
       "        vertical-align: middle;\n",
       "    }\n",
       "\n",
       "    .dataframe tbody tr th {\n",
       "        vertical-align: top;\n",
       "    }\n",
       "\n",
       "    .dataframe thead th {\n",
       "        text-align: right;\n",
       "    }\n",
       "</style>\n",
       "<table border=\"1\" class=\"dataframe\">\n",
       "  <thead>\n",
       "    <tr style=\"text-align: right;\">\n",
       "      <th></th>\n",
       "      <th>Months_on_book</th>\n",
       "      <th>Total_Relationship_Count</th>\n",
       "      <th>Months_Inactive_12_mon</th>\n",
       "      <th>Credit_Limit</th>\n",
       "      <th>Total_Revolving_Bal</th>\n",
       "      <th>Avg_Utilization_Ratio</th>\n",
       "      <th>Total_Trans_Amt</th>\n",
       "      <th>Total_Trans_Ct</th>\n",
       "      <th>avg_spend</th>\n",
       "    </tr>\n",
       "  </thead>\n",
       "  <tbody>\n",
       "    <tr>\n",
       "      <th>0</th>\n",
       "      <td>34.0</td>\n",
       "      <td>3.0</td>\n",
       "      <td>4.0</td>\n",
       "      <td>3313.0</td>\n",
       "      <td>2517.0</td>\n",
       "      <td>0.760</td>\n",
       "      <td>1171.0</td>\n",
       "      <td>20.0</td>\n",
       "      <td>58.550000</td>\n",
       "    </tr>\n",
       "    <tr>\n",
       "      <th>1</th>\n",
       "      <td>36.0</td>\n",
       "      <td>3.0</td>\n",
       "      <td>1.0</td>\n",
       "      <td>4010.0</td>\n",
       "      <td>1247.0</td>\n",
       "      <td>0.311</td>\n",
       "      <td>1088.0</td>\n",
       "      <td>24.0</td>\n",
       "      <td>45.333333</td>\n",
       "    </tr>\n",
       "    <tr>\n",
       "      <th>2</th>\n",
       "      <td>27.0</td>\n",
       "      <td>2.0</td>\n",
       "      <td>2.0</td>\n",
       "      <td>29081.0</td>\n",
       "      <td>1396.0</td>\n",
       "      <td>0.048</td>\n",
       "      <td>1538.0</td>\n",
       "      <td>36.0</td>\n",
       "      <td>42.722222</td>\n",
       "    </tr>\n",
       "    <tr>\n",
       "      <th>3</th>\n",
       "      <td>36.0</td>\n",
       "      <td>3.0</td>\n",
       "      <td>5.0</td>\n",
       "      <td>11751.0</td>\n",
       "      <td>0.0</td>\n",
       "      <td>0.000</td>\n",
       "      <td>1539.0</td>\n",
       "      <td>19.0</td>\n",
       "      <td>81.000000</td>\n",
       "    </tr>\n",
       "    <tr>\n",
       "      <th>4</th>\n",
       "      <td>48.0</td>\n",
       "      <td>5.0</td>\n",
       "      <td>2.0</td>\n",
       "      <td>2436.0</td>\n",
       "      <td>680.0</td>\n",
       "      <td>0.279</td>\n",
       "      <td>1570.0</td>\n",
       "      <td>29.0</td>\n",
       "      <td>54.137931</td>\n",
       "    </tr>\n",
       "  </tbody>\n",
       "</table>\n",
       "</div>"
      ],
      "text/plain": [
       "   Months_on_book  Total_Relationship_Count  Months_Inactive_12_mon  \\\n",
       "0            34.0                       3.0                     4.0   \n",
       "1            36.0                       3.0                     1.0   \n",
       "2            27.0                       2.0                     2.0   \n",
       "3            36.0                       3.0                     5.0   \n",
       "4            48.0                       5.0                     2.0   \n",
       "\n",
       "   Credit_Limit  Total_Revolving_Bal  Avg_Utilization_Ratio  Total_Trans_Amt  \\\n",
       "0        3313.0               2517.0                  0.760           1171.0   \n",
       "1        4010.0               1247.0                  0.311           1088.0   \n",
       "2       29081.0               1396.0                  0.048           1538.0   \n",
       "3       11751.0                  0.0                  0.000           1539.0   \n",
       "4        2436.0                680.0                  0.279           1570.0   \n",
       "\n",
       "   Total_Trans_Ct  avg_spend  \n",
       "0            20.0  58.550000  \n",
       "1            24.0  45.333333  \n",
       "2            36.0  42.722222  \n",
       "3            19.0  81.000000  \n",
       "4            29.0  54.137931  "
      ]
     },
     "execution_count": 15,
     "metadata": {},
     "output_type": "execute_result"
    }
   ],
   "source": [
    "num.head()"
   ]
  },
  {
   "cell_type": "markdown",
   "metadata": {},
   "source": [
    "# Feature Scaling"
   ]
  },
  {
   "cell_type": "code",
   "execution_count": 16,
   "metadata": {},
   "outputs": [],
   "source": [
    "from sklearn.preprocessing import StandardScaler\n",
    "stdsc=StandardScaler()\n",
    "num_std=pd.DataFrame(stdsc.fit_transform(num),index=num.index,columns=num.columns).add_suffix('_std')"
   ]
  },
  {
   "cell_type": "code",
   "execution_count": 17,
   "metadata": {
    "scrolled": true
   },
   "outputs": [
    {
     "data": {
      "text/html": [
       "<div>\n",
       "<style scoped>\n",
       "    .dataframe tbody tr th:only-of-type {\n",
       "        vertical-align: middle;\n",
       "    }\n",
       "\n",
       "    .dataframe tbody tr th {\n",
       "        vertical-align: top;\n",
       "    }\n",
       "\n",
       "    .dataframe thead th {\n",
       "        text-align: right;\n",
       "    }\n",
       "</style>\n",
       "<table border=\"1\" class=\"dataframe\">\n",
       "  <thead>\n",
       "    <tr style=\"text-align: right;\">\n",
       "      <th></th>\n",
       "      <th>Months_on_book_std</th>\n",
       "      <th>Total_Relationship_Count_std</th>\n",
       "      <th>Months_Inactive_12_mon_std</th>\n",
       "      <th>Credit_Limit_std</th>\n",
       "      <th>Total_Revolving_Bal_std</th>\n",
       "      <th>Avg_Utilization_Ratio_std</th>\n",
       "      <th>Total_Trans_Amt_std</th>\n",
       "      <th>Total_Trans_Ct_std</th>\n",
       "      <th>avg_spend_std</th>\n",
       "    </tr>\n",
       "  </thead>\n",
       "  <tbody>\n",
       "    <tr>\n",
       "      <th>0</th>\n",
       "      <td>-0.227121</td>\n",
       "      <td>-0.481448</td>\n",
       "      <td>1.737885</td>\n",
       "      <td>-0.581932</td>\n",
       "      <td>1.667223</td>\n",
       "      <td>1.762509</td>\n",
       "      <td>-0.955841</td>\n",
       "      <td>-1.901937</td>\n",
       "      <td>-0.157105</td>\n",
       "    </tr>\n",
       "    <tr>\n",
       "      <th>1</th>\n",
       "      <td>0.023041</td>\n",
       "      <td>-0.481448</td>\n",
       "      <td>-1.395805</td>\n",
       "      <td>-0.505852</td>\n",
       "      <td>0.110202</td>\n",
       "      <td>0.136021</td>\n",
       "      <td>-0.980499</td>\n",
       "      <td>-1.731114</td>\n",
       "      <td>-0.657095</td>\n",
       "    </tr>\n",
       "    <tr>\n",
       "      <th>2</th>\n",
       "      <td>-1.102689</td>\n",
       "      <td>-1.124354</td>\n",
       "      <td>-0.351242</td>\n",
       "      <td>2.230732</td>\n",
       "      <td>0.292876</td>\n",
       "      <td>-0.816688</td>\n",
       "      <td>-0.846814</td>\n",
       "      <td>-1.218643</td>\n",
       "      <td>-0.755874</td>\n",
       "    </tr>\n",
       "    <tr>\n",
       "      <th>3</th>\n",
       "      <td>0.023041</td>\n",
       "      <td>-0.481448</td>\n",
       "      <td>2.782448</td>\n",
       "      <td>0.339104</td>\n",
       "      <td>-1.418621</td>\n",
       "      <td>-0.990566</td>\n",
       "      <td>-0.846517</td>\n",
       "      <td>-1.944643</td>\n",
       "      <td>0.692184</td>\n",
       "    </tr>\n",
       "    <tr>\n",
       "      <th>4</th>\n",
       "      <td>1.524015</td>\n",
       "      <td>0.804363</td>\n",
       "      <td>-0.351242</td>\n",
       "      <td>-0.677659</td>\n",
       "      <td>-0.584940</td>\n",
       "      <td>0.020102</td>\n",
       "      <td>-0.837308</td>\n",
       "      <td>-1.517584</td>\n",
       "      <td>-0.324015</td>\n",
       "    </tr>\n",
       "  </tbody>\n",
       "</table>\n",
       "</div>"
      ],
      "text/plain": [
       "   Months_on_book_std  Total_Relationship_Count_std  \\\n",
       "0           -0.227121                     -0.481448   \n",
       "1            0.023041                     -0.481448   \n",
       "2           -1.102689                     -1.124354   \n",
       "3            0.023041                     -0.481448   \n",
       "4            1.524015                      0.804363   \n",
       "\n",
       "   Months_Inactive_12_mon_std  Credit_Limit_std  Total_Revolving_Bal_std  \\\n",
       "0                    1.737885         -0.581932                 1.667223   \n",
       "1                   -1.395805         -0.505852                 0.110202   \n",
       "2                   -0.351242          2.230732                 0.292876   \n",
       "3                    2.782448          0.339104                -1.418621   \n",
       "4                   -0.351242         -0.677659                -0.584940   \n",
       "\n",
       "   Avg_Utilization_Ratio_std  Total_Trans_Amt_std  Total_Trans_Ct_std  \\\n",
       "0                   1.762509            -0.955841           -1.901937   \n",
       "1                   0.136021            -0.980499           -1.731114   \n",
       "2                  -0.816688            -0.846814           -1.218643   \n",
       "3                  -0.990566            -0.846517           -1.944643   \n",
       "4                   0.020102            -0.837308           -1.517584   \n",
       "\n",
       "   avg_spend_std  \n",
       "0      -0.157105  \n",
       "1      -0.657095  \n",
       "2      -0.755874  \n",
       "3       0.692184  \n",
       "4      -0.324015  "
      ]
     },
     "execution_count": 17,
     "metadata": {},
     "output_type": "execute_result"
    }
   ],
   "source": [
    "num_std.head()"
   ]
  },
  {
   "cell_type": "code",
   "execution_count": 18,
   "metadata": {},
   "outputs": [
    {
     "data": {
      "text/plain": [
       "(3078, 9)"
      ]
     },
     "execution_count": 18,
     "metadata": {},
     "output_type": "execute_result"
    }
   ],
   "source": [
    "num_std.shape"
   ]
  },
  {
   "cell_type": "markdown",
   "metadata": {},
   "source": [
    "# Checking for Correlations"
   ]
  },
  {
   "cell_type": "code",
   "execution_count": 19,
   "metadata": {
    "scrolled": false
   },
   "outputs": [
    {
     "data": {
      "text/plain": [
       "<matplotlib.axes._subplots.AxesSubplot at 0x24723f8b048>"
      ]
     },
     "execution_count": 19,
     "metadata": {},
     "output_type": "execute_result"
    },
    {
     "data": {
      "image/png": "[encoded data removed]",
      "text/plain": [
       "<Figure size 432x288 with 2 Axes>"
      ]
     },
     "metadata": {},
     "output_type": "display_data"
    }
   ],
   "source": [
    "import seaborn as sns\n",
    "sns.heatmap(num_std.corr(),vmin=-1,vmax=1,center=0,cmap='coolwarm')"
   ]
  },
  {
   "cell_type": "markdown",
   "metadata": {},
   "source": [
    "# Drop Correlated Variables"
   ]
  },
  {
   "cell_type": "code",
   "execution_count": 20,
   "metadata": {},
   "outputs": [],
   "source": [
    "num_std=num_std.drop(['Credit_Limit_std','Total_Revolving_Bal_std','Total_Trans_Amt_std','Total_Trans_Ct_std','Total_Relationship_Count_std'],axis=1)"
   ]
  },
  {
   "cell_type": "markdown",
   "metadata": {},
   "source": [
    "# Checking for Correlations"
   ]
  },
  {
   "cell_type": "code",
   "execution_count": 21,
   "metadata": {},
   "outputs": [
    {
     "data": {
      "text/plain": [
       "<matplotlib.axes._subplots.AxesSubplot at 0x247263ea978>"
      ]
     },
     "execution_count": 21,
     "metadata": {},
     "output_type": "execute_result"
    },
    {
     "data": {
      "image/png": "[encoded data removed]",
      "text/plain": [
       "<Figure size 432x288 with 2 Axes>"
      ]
     },
     "metadata": {},
     "output_type": "display_data"
    }
   ],
   "source": [
    "import seaborn as sns\n",
    "sns.heatmap(num_std.corr(),vmin=-1,vmax=1,center=0,cmap='coolwarm')"
   ]
  },
  {
   "cell_type": "markdown",
   "metadata": {},
   "source": [
    "## WCSS Graph"
   ]
  },
  {
   "cell_type": "code",
   "execution_count": 22,
   "metadata": {},
   "outputs": [
    {
     "data": {
      "image/png": "[encoded data removed]",
      "text/plain": [
       "<Figure size 720x576 with 1 Axes>"
      ]
     },
     "metadata": {},
     "output_type": "display_data"
    }
   ],
   "source": [
    "# find the appropriate cluster number\n",
    "plt.figure(figsize=(10, 8))\n",
    "from sklearn.cluster import KMeans\n",
    "wcss = []\n",
    "K = range(1, 10)\n",
    "for i in K:\n",
    "    kmeans = KMeans(n_clusters = i, init = 'k-means++', random_state = 42)\n",
    "    kmeans.fit(num_std)\n",
    "    wcss.append(kmeans.inertia_)\n",
    "plt.plot(K, wcss,'o-')\n",
    "plt.title('The Elbow Method')\n",
    "plt.xlabel('Number of clusters')\n",
    "plt.ylabel('WCSS')\n",
    "plt.show()"
   ]
  },
  {
   "cell_type": "markdown",
   "metadata": {},
   "source": [
    "## Building the clusters "
   ]
  },
  {
   "cell_type": "code",
   "execution_count": 23,
   "metadata": {},
   "outputs": [],
   "source": [
    "# Fitting K-Means to the dataset\n",
    "from sklearn.cluster import KMeans\n",
    "kmeans = KMeans(n_clusters = 4, init = 'k-means++', random_state = 42)\n",
    "y_kmeans = kmeans.fit_predict(num_std)\n",
    "num_std['cluster_label'] = pd.DataFrame(y_kmeans)"
   ]
  },
  {
   "cell_type": "code",
   "execution_count": 24,
   "metadata": {},
   "outputs": [
    {
     "data": {
      "text/plain": [
       "0.35082069341982564"
      ]
     },
     "execution_count": 24,
     "metadata": {},
     "output_type": "execute_result"
    }
   ],
   "source": [
    "from sklearn.metrics import silhouette_score\n",
    "cluster_label=num_std['cluster_label']\n",
    "silhouette_avg = silhouette_score(num_std, cluster_label)\n",
    "silhouette_avg"
   ]
  },
  {
   "cell_type": "code",
   "execution_count": 25,
   "metadata": {},
   "outputs": [
    {
     "data": {
      "text/plain": [
       "1.084755399548617"
      ]
     },
     "execution_count": 25,
     "metadata": {},
     "output_type": "execute_result"
    }
   ],
   "source": [
    "from sklearn.metrics import davies_bouldin_score\n",
    "davies_bouldin_score(num_std,cluster_label)"
   ]
  },
  {
   "cell_type": "code",
   "execution_count": 26,
   "metadata": {},
   "outputs": [],
   "source": [
    "num['cluster_label']=num_std['cluster_label']"
   ]
  },
  {
   "cell_type": "code",
   "execution_count": 27,
   "metadata": {},
   "outputs": [
    {
     "data": {
      "text/plain": [
       "2    976\n",
       "3    886\n",
       "1    872\n",
       "0    344\n",
       "Name: cluster_label, dtype: int64"
      ]
     },
     "execution_count": 27,
     "metadata": {},
     "output_type": "execute_result"
    }
   ],
   "source": [
    "num['cluster_label'].value_counts()"
   ]
  },
  {
   "cell_type": "code",
   "execution_count": 28,
   "metadata": {
    "scrolled": false
   },
   "outputs": [
    {
     "data": {
      "text/html": [
       "<div>\n",
       "<style scoped>\n",
       "    .dataframe tbody tr th:only-of-type {\n",
       "        vertical-align: middle;\n",
       "    }\n",
       "\n",
       "    .dataframe tbody tr th {\n",
       "        vertical-align: top;\n",
       "    }\n",
       "\n",
       "    .dataframe thead tr th {\n",
       "        text-align: left;\n",
       "    }\n",
       "\n",
       "    .dataframe thead tr:last-of-type th {\n",
       "        text-align: right;\n",
       "    }\n",
       "</style>\n",
       "<table border=\"1\" class=\"dataframe\">\n",
       "  <thead>\n",
       "    <tr>\n",
       "      <th></th>\n",
       "      <th>Months_on_book</th>\n",
       "      <th>Total_Relationship_Count</th>\n",
       "      <th>Months_Inactive_12_mon</th>\n",
       "      <th>Credit_Limit</th>\n",
       "      <th>Total_Revolving_Bal</th>\n",
       "      <th>Avg_Utilization_Ratio</th>\n",
       "      <th>Total_Trans_Amt</th>\n",
       "      <th>Total_Trans_Ct</th>\n",
       "      <th>avg_spend</th>\n",
       "    </tr>\n",
       "    <tr>\n",
       "      <th></th>\n",
       "      <th>mean</th>\n",
       "      <th>mean</th>\n",
       "      <th>mean</th>\n",
       "      <th>mean</th>\n",
       "      <th>mean</th>\n",
       "      <th>mean</th>\n",
       "      <th>mean</th>\n",
       "      <th>mean</th>\n",
       "      <th>mean</th>\n",
       "    </tr>\n",
       "    <tr>\n",
       "      <th>cluster_label</th>\n",
       "      <th></th>\n",
       "      <th></th>\n",
       "      <th></th>\n",
       "      <th></th>\n",
       "      <th></th>\n",
       "      <th></th>\n",
       "      <th></th>\n",
       "      <th></th>\n",
       "      <th></th>\n",
       "    </tr>\n",
       "  </thead>\n",
       "  <tbody>\n",
       "    <tr>\n",
       "      <th>0</th>\n",
       "      <td>34.886628</td>\n",
       "      <td>2.363372</td>\n",
       "      <td>2.212209</td>\n",
       "      <td>14896.930233</td>\n",
       "      <td>1247.139535</td>\n",
       "      <td>0.147590</td>\n",
       "      <td>12330.366715</td>\n",
       "      <td>96.482558</td>\n",
       "      <td>127.191356</td>\n",
       "    </tr>\n",
       "    <tr>\n",
       "      <th>1</th>\n",
       "      <td>35.653670</td>\n",
       "      <td>3.965596</td>\n",
       "      <td>2.311927</td>\n",
       "      <td>2628.869495</td>\n",
       "      <td>1685.551606</td>\n",
       "      <td>0.650789</td>\n",
       "      <td>3547.165860</td>\n",
       "      <td>62.892202</td>\n",
       "      <td>55.406304</td>\n",
       "    </tr>\n",
       "    <tr>\n",
       "      <th>2</th>\n",
       "      <td>35.545082</td>\n",
       "      <td>3.985656</td>\n",
       "      <td>1.562500</td>\n",
       "      <td>10420.048873</td>\n",
       "      <td>944.859631</td>\n",
       "      <td>0.124890</td>\n",
       "      <td>3405.618658</td>\n",
       "      <td>60.810451</td>\n",
       "      <td>54.389051</td>\n",
       "    </tr>\n",
       "    <tr>\n",
       "      <th>3</th>\n",
       "      <td>36.634312</td>\n",
       "      <td>3.812641</td>\n",
       "      <td>3.260722</td>\n",
       "      <td>10180.966366</td>\n",
       "      <td>835.882619</td>\n",
       "      <td>0.114593</td>\n",
       "      <td>3215.736287</td>\n",
       "      <td>57.853273</td>\n",
       "      <td>54.004144</td>\n",
       "    </tr>\n",
       "  </tbody>\n",
       "</table>\n",
       "</div>"
      ],
      "text/plain": [
       "              Months_on_book Total_Relationship_Count Months_Inactive_12_mon  \\\n",
       "                        mean                     mean                   mean   \n",
       "cluster_label                                                                  \n",
       "0                  34.886628                 2.363372               2.212209   \n",
       "1                  35.653670                 3.965596               2.311927   \n",
       "2                  35.545082                 3.985656               1.562500   \n",
       "3                  36.634312                 3.812641               3.260722   \n",
       "\n",
       "               Credit_Limit Total_Revolving_Bal Avg_Utilization_Ratio  \\\n",
       "                       mean                mean                  mean   \n",
       "cluster_label                                                           \n",
       "0              14896.930233         1247.139535              0.147590   \n",
       "1               2628.869495         1685.551606              0.650789   \n",
       "2              10420.048873          944.859631              0.124890   \n",
       "3              10180.966366          835.882619              0.114593   \n",
       "\n",
       "              Total_Trans_Amt Total_Trans_Ct   avg_spend  \n",
       "                         mean           mean        mean  \n",
       "cluster_label                                             \n",
       "0                12330.366715      96.482558  127.191356  \n",
       "1                 3547.165860      62.892202   55.406304  \n",
       "2                 3405.618658      60.810451   54.389051  \n",
       "3                 3215.736287      57.853273   54.004144  "
      ]
     },
     "execution_count": 28,
     "metadata": {},
     "output_type": "execute_result"
    }
   ],
   "source": [
    "num.groupby('cluster_label').agg(['mean'])"
   ]
  },
  {
   "cell_type": "markdown",
   "metadata": {},
   "source": [
    "# joining the dataframes Num and Char"
   ]
  },
  {
   "cell_type": "code",
   "execution_count": 29,
   "metadata": {},
   "outputs": [],
   "source": [
    "data_all=pd.concat([num,char],axis=1,join=\"inner\")"
   ]
  },
  {
   "cell_type": "code",
   "execution_count": 30,
   "metadata": {
    "scrolled": false
   },
   "outputs": [
    {
     "data": {
      "text/html": [
       "<div>\n",
       "<style scoped>\n",
       "    .dataframe tbody tr th:only-of-type {\n",
       "        vertical-align: middle;\n",
       "    }\n",
       "\n",
       "    .dataframe tbody tr th {\n",
       "        vertical-align: top;\n",
       "    }\n",
       "\n",
       "    .dataframe thead th {\n",
       "        text-align: right;\n",
       "    }\n",
       "</style>\n",
       "<table border=\"1\" class=\"dataframe\">\n",
       "  <thead>\n",
       "    <tr style=\"text-align: right;\">\n",
       "      <th></th>\n",
       "      <th>Months_on_book</th>\n",
       "      <th>Total_Relationship_Count</th>\n",
       "      <th>Months_Inactive_12_mon</th>\n",
       "      <th>Credit_Limit</th>\n",
       "      <th>Total_Revolving_Bal</th>\n",
       "      <th>Avg_Utilization_Ratio</th>\n",
       "      <th>Total_Trans_Amt</th>\n",
       "      <th>Total_Trans_Ct</th>\n",
       "      <th>avg_spend</th>\n",
       "      <th>cluster_label</th>\n",
       "      <th>Education_Level</th>\n",
       "      <th>Card_Category</th>\n",
       "    </tr>\n",
       "  </thead>\n",
       "  <tbody>\n",
       "    <tr>\n",
       "      <th>0</th>\n",
       "      <td>34.0</td>\n",
       "      <td>3.0</td>\n",
       "      <td>4.0</td>\n",
       "      <td>3313.0</td>\n",
       "      <td>2517.0</td>\n",
       "      <td>0.760</td>\n",
       "      <td>1171.0</td>\n",
       "      <td>20.0</td>\n",
       "      <td>58.550000</td>\n",
       "      <td>1</td>\n",
       "      <td>High School</td>\n",
       "      <td>Blue</td>\n",
       "    </tr>\n",
       "    <tr>\n",
       "      <th>1</th>\n",
       "      <td>36.0</td>\n",
       "      <td>3.0</td>\n",
       "      <td>1.0</td>\n",
       "      <td>4010.0</td>\n",
       "      <td>1247.0</td>\n",
       "      <td>0.311</td>\n",
       "      <td>1088.0</td>\n",
       "      <td>24.0</td>\n",
       "      <td>45.333333</td>\n",
       "      <td>2</td>\n",
       "      <td>Graduate</td>\n",
       "      <td>Blue</td>\n",
       "    </tr>\n",
       "    <tr>\n",
       "      <th>2</th>\n",
       "      <td>27.0</td>\n",
       "      <td>2.0</td>\n",
       "      <td>2.0</td>\n",
       "      <td>29081.0</td>\n",
       "      <td>1396.0</td>\n",
       "      <td>0.048</td>\n",
       "      <td>1538.0</td>\n",
       "      <td>36.0</td>\n",
       "      <td>42.722222</td>\n",
       "      <td>2</td>\n",
       "      <td>High School</td>\n",
       "      <td>Silver</td>\n",
       "    </tr>\n",
       "    <tr>\n",
       "      <th>3</th>\n",
       "      <td>36.0</td>\n",
       "      <td>3.0</td>\n",
       "      <td>5.0</td>\n",
       "      <td>11751.0</td>\n",
       "      <td>0.0</td>\n",
       "      <td>0.000</td>\n",
       "      <td>1539.0</td>\n",
       "      <td>19.0</td>\n",
       "      <td>81.000000</td>\n",
       "      <td>3</td>\n",
       "      <td>College</td>\n",
       "      <td>Blue</td>\n",
       "    </tr>\n",
       "    <tr>\n",
       "      <th>4</th>\n",
       "      <td>48.0</td>\n",
       "      <td>5.0</td>\n",
       "      <td>2.0</td>\n",
       "      <td>2436.0</td>\n",
       "      <td>680.0</td>\n",
       "      <td>0.279</td>\n",
       "      <td>1570.0</td>\n",
       "      <td>29.0</td>\n",
       "      <td>54.137931</td>\n",
       "      <td>2</td>\n",
       "      <td>Graduate</td>\n",
       "      <td>Blue</td>\n",
       "    </tr>\n",
       "  </tbody>\n",
       "</table>\n",
       "</div>"
      ],
      "text/plain": [
       "   Months_on_book  Total_Relationship_Count  Months_Inactive_12_mon  \\\n",
       "0            34.0                       3.0                     4.0   \n",
       "1            36.0                       3.0                     1.0   \n",
       "2            27.0                       2.0                     2.0   \n",
       "3            36.0                       3.0                     5.0   \n",
       "4            48.0                       5.0                     2.0   \n",
       "\n",
       "   Credit_Limit  Total_Revolving_Bal  Avg_Utilization_Ratio  Total_Trans_Amt  \\\n",
       "0        3313.0               2517.0                  0.760           1171.0   \n",
       "1        4010.0               1247.0                  0.311           1088.0   \n",
       "2       29081.0               1396.0                  0.048           1538.0   \n",
       "3       11751.0                  0.0                  0.000           1539.0   \n",
       "4        2436.0                680.0                  0.279           1570.0   \n",
       "\n",
       "   Total_Trans_Ct  avg_spend  cluster_label Education_Level Card_Category  \n",
       "0            20.0  58.550000              1     High School          Blue  \n",
       "1            24.0  45.333333              2        Graduate          Blue  \n",
       "2            36.0  42.722222              2     High School        Silver  \n",
       "3            19.0  81.000000              3         College          Blue  \n",
       "4            29.0  54.137931              2        Graduate          Blue  "
      ]
     },
     "execution_count": 30,
     "metadata": {},
     "output_type": "execute_result"
    }
   ],
   "source": [
    "data_all.head()"
   ]
  },
  {
   "cell_type": "markdown",
   "metadata": {},
   "source": [
    "# Cluster Profiling"
   ]
  },
  {
   "cell_type": "code",
   "execution_count": 31,
   "metadata": {
    "scrolled": false
   },
   "outputs": [
    {
     "data": {
      "text/html": [
       "<div>\n",
       "<style scoped>\n",
       "    .dataframe tbody tr th:only-of-type {\n",
       "        vertical-align: middle;\n",
       "    }\n",
       "\n",
       "    .dataframe tbody tr th {\n",
       "        vertical-align: top;\n",
       "    }\n",
       "\n",
       "    .dataframe thead th {\n",
       "        text-align: right;\n",
       "    }\n",
       "</style>\n",
       "<table border=\"1\" class=\"dataframe\">\n",
       "  <thead>\n",
       "    <tr style=\"text-align: right;\">\n",
       "      <th>Card_Category</th>\n",
       "      <th>Blue</th>\n",
       "      <th>Gold</th>\n",
       "      <th>Platinum</th>\n",
       "      <th>Silver</th>\n",
       "    </tr>\n",
       "    <tr>\n",
       "      <th>cluster_label</th>\n",
       "      <th></th>\n",
       "      <th></th>\n",
       "      <th></th>\n",
       "      <th></th>\n",
       "    </tr>\n",
       "  </thead>\n",
       "  <tbody>\n",
       "    <tr>\n",
       "      <th>0</th>\n",
       "      <td>266.0</td>\n",
       "      <td>17.0</td>\n",
       "      <td>5.0</td>\n",
       "      <td>56.0</td>\n",
       "    </tr>\n",
       "    <tr>\n",
       "      <th>1</th>\n",
       "      <td>872.0</td>\n",
       "      <td>NaN</td>\n",
       "      <td>NaN</td>\n",
       "      <td>NaN</td>\n",
       "    </tr>\n",
       "    <tr>\n",
       "      <th>2</th>\n",
       "      <td>895.0</td>\n",
       "      <td>10.0</td>\n",
       "      <td>6.0</td>\n",
       "      <td>65.0</td>\n",
       "    </tr>\n",
       "    <tr>\n",
       "      <th>3</th>\n",
       "      <td>833.0</td>\n",
       "      <td>7.0</td>\n",
       "      <td>1.0</td>\n",
       "      <td>45.0</td>\n",
       "    </tr>\n",
       "  </tbody>\n",
       "</table>\n",
       "</div>"
      ],
      "text/plain": [
       "Card_Category   Blue  Gold  Platinum  Silver\n",
       "cluster_label                               \n",
       "0              266.0  17.0       5.0    56.0\n",
       "1              872.0   NaN       NaN     NaN\n",
       "2              895.0  10.0       6.0    65.0\n",
       "3              833.0   7.0       1.0    45.0"
      ]
     },
     "execution_count": 31,
     "metadata": {},
     "output_type": "execute_result"
    }
   ],
   "source": [
    "pd.crosstab(index=data_all['cluster_label'], columns=data_all['Card_Category'],values=data_all['Card_Category'],aggfunc='count')"
   ]
  },
  {
   "cell_type": "code",
   "execution_count": 32,
   "metadata": {
    "scrolled": true
   },
   "outputs": [
    {
     "data": {
      "text/html": [
       "<div>\n",
       "<style scoped>\n",
       "    .dataframe tbody tr th:only-of-type {\n",
       "        vertical-align: middle;\n",
       "    }\n",
       "\n",
       "    .dataframe tbody tr th {\n",
       "        vertical-align: top;\n",
       "    }\n",
       "\n",
       "    .dataframe thead th {\n",
       "        text-align: right;\n",
       "    }\n",
       "</style>\n",
       "<table border=\"1\" class=\"dataframe\">\n",
       "  <thead>\n",
       "    <tr style=\"text-align: right;\">\n",
       "      <th>Card_Category</th>\n",
       "      <th>Blue</th>\n",
       "      <th>Gold</th>\n",
       "      <th>Platinum</th>\n",
       "      <th>Silver</th>\n",
       "    </tr>\n",
       "    <tr>\n",
       "      <th>cluster_label</th>\n",
       "      <th></th>\n",
       "      <th></th>\n",
       "      <th></th>\n",
       "      <th></th>\n",
       "    </tr>\n",
       "  </thead>\n",
       "  <tbody>\n",
       "    <tr>\n",
       "      <th>0</th>\n",
       "      <td>12335.156391</td>\n",
       "      <td>12182.823529</td>\n",
       "      <td>13161.800000</td>\n",
       "      <td>12278.170536</td>\n",
       "    </tr>\n",
       "    <tr>\n",
       "      <th>1</th>\n",
       "      <td>3547.165860</td>\n",
       "      <td>NaN</td>\n",
       "      <td>NaN</td>\n",
       "      <td>NaN</td>\n",
       "    </tr>\n",
       "    <tr>\n",
       "      <th>2</th>\n",
       "      <td>3364.793084</td>\n",
       "      <td>4327.700000</td>\n",
       "      <td>4444.666667</td>\n",
       "      <td>3729.984615</td>\n",
       "    </tr>\n",
       "    <tr>\n",
       "      <th>3</th>\n",
       "      <td>3184.493709</td>\n",
       "      <td>4747.428571</td>\n",
       "      <td>5418.000000</td>\n",
       "      <td>3506.868667</td>\n",
       "    </tr>\n",
       "  </tbody>\n",
       "</table>\n",
       "</div>"
      ],
      "text/plain": [
       "Card_Category          Blue          Gold      Platinum        Silver\n",
       "cluster_label                                                        \n",
       "0              12335.156391  12182.823529  13161.800000  12278.170536\n",
       "1               3547.165860           NaN           NaN           NaN\n",
       "2               3364.793084   4327.700000   4444.666667   3729.984615\n",
       "3               3184.493709   4747.428571   5418.000000   3506.868667"
      ]
     },
     "execution_count": 32,
     "metadata": {},
     "output_type": "execute_result"
    }
   ],
   "source": [
    "pd.crosstab(index=data_all['cluster_label'], columns=data_all['Card_Category'],values=data_all['Total_Trans_Amt'],aggfunc='mean')"
   ]
  },
  {
   "cell_type": "code",
   "execution_count": 33,
   "metadata": {
    "scrolled": true
   },
   "outputs": [
    {
     "data": {
      "text/html": [
       "<div>\n",
       "<style scoped>\n",
       "    .dataframe tbody tr th:only-of-type {\n",
       "        vertical-align: middle;\n",
       "    }\n",
       "\n",
       "    .dataframe tbody tr th {\n",
       "        vertical-align: top;\n",
       "    }\n",
       "\n",
       "    .dataframe thead th {\n",
       "        text-align: right;\n",
       "    }\n",
       "</style>\n",
       "<table border=\"1\" class=\"dataframe\">\n",
       "  <thead>\n",
       "    <tr style=\"text-align: right;\">\n",
       "      <th>Card_Category</th>\n",
       "      <th>Blue</th>\n",
       "      <th>Gold</th>\n",
       "      <th>Platinum</th>\n",
       "      <th>Silver</th>\n",
       "    </tr>\n",
       "    <tr>\n",
       "      <th>cluster_label</th>\n",
       "      <th></th>\n",
       "      <th></th>\n",
       "      <th></th>\n",
       "      <th></th>\n",
       "    </tr>\n",
       "  </thead>\n",
       "  <tbody>\n",
       "    <tr>\n",
       "      <th>0</th>\n",
       "      <td>95.744361</td>\n",
       "      <td>97.529412</td>\n",
       "      <td>107.2</td>\n",
       "      <td>98.714286</td>\n",
       "    </tr>\n",
       "    <tr>\n",
       "      <th>1</th>\n",
       "      <td>62.892202</td>\n",
       "      <td>NaN</td>\n",
       "      <td>NaN</td>\n",
       "      <td>NaN</td>\n",
       "    </tr>\n",
       "    <tr>\n",
       "      <th>2</th>\n",
       "      <td>60.520670</td>\n",
       "      <td>70.700000</td>\n",
       "      <td>63.0</td>\n",
       "      <td>63.076923</td>\n",
       "    </tr>\n",
       "    <tr>\n",
       "      <th>3</th>\n",
       "      <td>57.474190</td>\n",
       "      <td>70.285714</td>\n",
       "      <td>65.0</td>\n",
       "      <td>62.777778</td>\n",
       "    </tr>\n",
       "  </tbody>\n",
       "</table>\n",
       "</div>"
      ],
      "text/plain": [
       "Card_Category       Blue       Gold  Platinum     Silver\n",
       "cluster_label                                           \n",
       "0              95.744361  97.529412     107.2  98.714286\n",
       "1              62.892202        NaN       NaN        NaN\n",
       "2              60.520670  70.700000      63.0  63.076923\n",
       "3              57.474190  70.285714      65.0  62.777778"
      ]
     },
     "execution_count": 33,
     "metadata": {},
     "output_type": "execute_result"
    }
   ],
   "source": [
    "pd.crosstab(index=data_all['cluster_label'], columns=data_all['Card_Category'],values=data_all['Total_Trans_Ct'],aggfunc='mean')"
   ]
  },
  {
   "cell_type": "markdown",
   "metadata": {},
   "source": [
    "## Plotting the Cluster Profiles"
   ]
  },
  {
   "cell_type": "code",
   "execution_count": 34,
   "metadata": {},
   "outputs": [
    {
     "name": "stderr",
     "output_type": "stream",
     "text": [
      "C:\\Anaconda_Python\\lib\\site-packages\\scipy\\stats\\stats.py:1713: FutureWarning: Using a non-tuple sequence for multidimensional indexing is deprecated; use `arr[tuple(seq)]` instead of `arr[seq]`. In the future this will be interpreted as an array index, `arr[np.array(seq)]`, which will result either in an error or a different result.\n",
      "  return np.add.reduce(sorted[indexer] * weights, axis=axis) / sumval\n"
     ]
    },
    {
     "data": {
      "text/plain": [
       "<matplotlib.axes._subplots.AxesSubplot at 0x24726c8ee80>"
      ]
     },
     "execution_count": 34,
     "metadata": {},
     "output_type": "execute_result"
    },
    {
     "data": {
      "image/png": "[encoded data removed]",
      "text/plain": [
       "<Figure size 432x288 with 1 Axes>"
      ]
     },
     "metadata": {},
     "output_type": "display_data"
    }
   ],
   "source": [
    "import seaborn as sns\n",
    "from numpy import mean\n",
    "sns.barplot(x='cluster_label', y=\"Avg_Utilization_Ratio\",data=data_all, estimator=mean )"
   ]
  },
  {
   "cell_type": "code",
   "execution_count": 35,
   "metadata": {},
   "outputs": [
    {
     "name": "stderr",
     "output_type": "stream",
     "text": [
      "C:\\Anaconda_Python\\lib\\site-packages\\scipy\\stats\\stats.py:1713: FutureWarning: Using a non-tuple sequence for multidimensional indexing is deprecated; use `arr[tuple(seq)]` instead of `arr[seq]`. In the future this will be interpreted as an array index, `arr[np.array(seq)]`, which will result either in an error or a different result.\n",
      "  return np.add.reduce(sorted[indexer] * weights, axis=axis) / sumval\n"
     ]
    },
    {
     "data": {
      "text/plain": [
       "<matplotlib.axes._subplots.AxesSubplot at 0x24726d87278>"
      ]
     },
     "execution_count": 35,
     "metadata": {},
     "output_type": "execute_result"
    },
    {
     "data": {
      "image/png": "[encoded data removed]",
      "text/plain": [
       "<Figure size 432x288 with 1 Axes>"
      ]
     },
     "metadata": {},
     "output_type": "display_data"
    }
   ],
   "source": [
    "sns.barplot(x='cluster_label', y=\"Months_on_book\",data=data_all, estimator=mean )"
   ]
  },
  {
   "cell_type": "code",
   "execution_count": 36,
   "metadata": {},
   "outputs": [
    {
     "name": "stderr",
     "output_type": "stream",
     "text": [
      "C:\\Anaconda_Python\\lib\\site-packages\\scipy\\stats\\stats.py:1713: FutureWarning: Using a non-tuple sequence for multidimensional indexing is deprecated; use `arr[tuple(seq)]` instead of `arr[seq]`. In the future this will be interpreted as an array index, `arr[np.array(seq)]`, which will result either in an error or a different result.\n",
      "  return np.add.reduce(sorted[indexer] * weights, axis=axis) / sumval\n"
     ]
    },
    {
     "data": {
      "text/plain": [
       "<matplotlib.axes._subplots.AxesSubplot at 0x24726df24e0>"
      ]
     },
     "execution_count": 36,
     "metadata": {},
     "output_type": "execute_result"
    },
    {
     "data": {
      "image/png": "[encoded data removed]",
      "text/plain": [
       "<Figure size 432x288 with 1 Axes>"
      ]
     },
     "metadata": {},
     "output_type": "display_data"
    }
   ],
   "source": [
    "sns.barplot(x='cluster_label', y=\"Months_Inactive_12_mon\",data=data_all, estimator=mean ) "
   ]
  },
  {
   "cell_type": "code",
   "execution_count": 37,
   "metadata": {},
   "outputs": [
    {
     "name": "stderr",
     "output_type": "stream",
     "text": [
      "C:\\Anaconda_Python\\lib\\site-packages\\scipy\\stats\\stats.py:1713: FutureWarning: Using a non-tuple sequence for multidimensional indexing is deprecated; use `arr[tuple(seq)]` instead of `arr[seq]`. In the future this will be interpreted as an array index, `arr[np.array(seq)]`, which will result either in an error or a different result.\n",
      "  return np.add.reduce(sorted[indexer] * weights, axis=axis) / sumval\n"
     ]
    },
    {
     "data": {
      "text/plain": [
       "<matplotlib.axes._subplots.AxesSubplot at 0x24726fec6a0>"
      ]
     },
     "execution_count": 37,
     "metadata": {},
     "output_type": "execute_result"
    },
    {
     "data": {
      "image/png": "[encoded data removed]",
      "text/plain": [
       "<Figure size 432x288 with 1 Axes>"
      ]
     },
     "metadata": {},
     "output_type": "display_data"
    }
   ],
   "source": [
    "sns.barplot(x='cluster_label', y=\"avg_spend\",data=data_all, estimator=mean )"
   ]
  },
  {
   "cell_type": "markdown",
   "metadata": {},
   "source": [
    "# Providing the final output"
   ]
  },
  {
   "cell_type": "code",
   "execution_count": 38,
   "metadata": {},
   "outputs": [
    {
     "data": {
      "text/plain": [
       "(344, 12)"
      ]
     },
     "execution_count": 38,
     "metadata": {},
     "output_type": "execute_result"
    }
   ],
   "source": [
    "data_cluster_0=data_all.loc[data_all['cluster_label']==0]\n",
    "data_cluster_0.shape"
   ]
  },
  {
   "cell_type": "code",
   "execution_count": 39,
   "metadata": {},
   "outputs": [
    {
     "data": {
      "text/plain": [
       "(872, 12)"
      ]
     },
     "execution_count": 39,
     "metadata": {},
     "output_type": "execute_result"
    }
   ],
   "source": [
    "data_cluster_1=data_all.loc[data_all['cluster_label']==1]\n",
    "data_cluster_1.shape"
   ]
  },
  {
   "cell_type": "code",
   "execution_count": 40,
   "metadata": {},
   "outputs": [
    {
     "data": {
      "text/plain": [
       "(976, 12)"
      ]
     },
     "execution_count": 40,
     "metadata": {},
     "output_type": "execute_result"
    }
   ],
   "source": [
    "data_cluster_2=data_all.loc[data_all['cluster_label']==2]\n",
    "data_cluster_2.shape"
   ]
  },
  {
   "cell_type": "code",
   "execution_count": 41,
   "metadata": {},
   "outputs": [
    {
     "data": {
      "text/plain": [
       "(886, 12)"
      ]
     },
     "execution_count": 41,
     "metadata": {},
     "output_type": "execute_result"
    }
   ],
   "source": [
    "data_cluster_3=data_all.loc[data_all['cluster_label']==3]\n",
    "data_cluster_3.shape"
   ]
  },
  {
   "cell_type": "code",
   "execution_count": 42,
   "metadata": {},
   "outputs": [],
   "source": [
    "data_cluster_0.to_csv('C:/Users/aksin52/Documents/Machine Learning Express/Introduction to Machine Learning/Marketing Analytics Specialization/Part 5 - Clustering Algorithms/Data/data_cluster_3.csv')"
   ]
  }
 ],
 "metadata": {
  "kernelspec": {
   "display_name": "Python 3",
   "language": "python",
   "name": "python3"
  },
  "language_info": {
   "codemirror_mode": {
    "name": "ipython",
    "version": 3
   },
   "file_extension": ".py",
   "mimetype": "text/x-python",
   "name": "python",
   "nbconvert_exporter": "python",
   "pygments_lexer": "ipython3",
   "version": "3.6.5"
  }
 },
 "nbformat": 4,
 "nbformat_minor": 2
}
